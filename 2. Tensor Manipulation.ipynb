{
 "cells": [
  {
   "cell_type": "markdown",
   "metadata": {},
   "source": [
    "# 2. Tensor Manipulation"
   ]
  },
  {
   "cell_type": "code",
   "execution_count": 7,
   "metadata": {},
   "outputs": [],
   "source": [
    "import tensorflow as tf\n",
    "import numpy as np\n",
    "tf.enable_eager_execution()"
   ]
  },
  {
   "cell_type": "markdown",
   "metadata": {},
   "source": [
    "### Tensor Fancy Indexing"
   ]
  },
  {
   "cell_type": "markdown",
   "metadata": {},
   "source": [
    "Tensorflow Fancy Indexing works just like numpy indexing"
   ]
  },
  {
   "cell_type": "code",
   "execution_count": 8,
   "metadata": {},
   "outputs": [
    {
     "name": "stdout",
     "output_type": "stream",
     "text": [
      "tf.Tensor(\n",
      "[[ 0.  1.  2. -1.]\n",
      " [ 3.  4.  5. -2.]\n",
      " [ 6.  7.  8. -3.]], shape=(3, 4), dtype=float32)\n"
     ]
    }
   ],
   "source": [
    "a = tf.constant([[0,1,2,-1],[3,4,5,-2],[6,7,8,-3]], dtype=tf.float32)\n",
    "print(a)"
   ]
  },
  {
   "cell_type": "code",
   "execution_count": 9,
   "metadata": {},
   "outputs": [
    {
     "name": "stdout",
     "output_type": "stream",
     "text": [
      "tf.Tensor([[ 3.  4.  5. -2.]], shape=(1, 4), dtype=float32)\n",
      "tf.Tensor([1 4], shape=(2,), dtype=int32)\n"
     ]
    }
   ],
   "source": [
    "b = a[1:2, :]\n",
    "print(b) #2D output\n",
    "print(tf.shape(b))"
   ]
  },
  {
   "cell_type": "code",
   "execution_count": 10,
   "metadata": {},
   "outputs": [
    {
     "name": "stdout",
     "output_type": "stream",
     "text": [
      "tf.Tensor([ 3.  4.  5. -2.], shape=(4,), dtype=float32)\n",
      "tf.Tensor([4], shape=(1,), dtype=int32)\n"
     ]
    }
   ],
   "source": [
    "c = a[1, :]\n",
    "print(c) #same as above but 1D output\n",
    "print(tf.shape(c))"
   ]
  },
  {
   "cell_type": "code",
   "execution_count": 11,
   "metadata": {},
   "outputs": [
    {
     "name": "stdout",
     "output_type": "stream",
     "text": [
      "tf.Tensor(8.0, shape=(), dtype=float32)\n"
     ]
    }
   ],
   "source": [
    "d = a[-1, 2]\n",
    "print(d)"
   ]
  },
  {
   "cell_type": "code",
   "execution_count": 12,
   "metadata": {},
   "outputs": [
    {
     "name": "stdout",
     "output_type": "stream",
     "text": [
      "tf.Tensor(\n",
      "[[ 1.  2. -1.]\n",
      " [ 4.  5. -2.]], shape=(2, 3), dtype=float32)\n"
     ]
    }
   ],
   "source": [
    "e = a[0:2, 1:tf.shape(a)[1]]\n",
    "print(e)"
   ]
  },
  {
   "cell_type": "markdown",
   "metadata": {},
   "source": [
    "### concat"
   ]
  },
  {
   "cell_type": "code",
   "execution_count": 13,
   "metadata": {},
   "outputs": [
    {
     "name": "stdout",
     "output_type": "stream",
     "text": [
      "tf.Tensor(\n",
      "[[[1]\n",
      "  [2]\n",
      "  [3]]\n",
      "\n",
      " [[4]\n",
      "  [5]\n",
      "  [6]]], shape=(2, 3, 1), dtype=int32)\n",
      "tf.Tensor([2 3 1], shape=(3,), dtype=int32)\n"
     ]
    }
   ],
   "source": [
    "a = tf.constant([[[1],[2],[3]],[[4],[5],[6]]])\n",
    "print(a)\n",
    "print(tf.shape(a))"
   ]
  },
  {
   "cell_type": "code",
   "execution_count": 14,
   "metadata": {},
   "outputs": [
    {
     "name": "stdout",
     "output_type": "stream",
     "text": [
      "tf.Tensor(\n",
      "[[[ 11  21 101]\n",
      "  [ 12  22 102]\n",
      "  [ 13  33 103]]\n",
      "\n",
      " [[ 14  44 104]\n",
      "  [ 15  55 105]\n",
      "  [ 16  66 106]]], shape=(2, 3, 3), dtype=int32)\n",
      "tf.Tensor([2 3 3], shape=(3,), dtype=int32)\n"
     ]
    }
   ],
   "source": [
    "c = tf.constant([[[11, 21, 101],[12, 22, 102],[13, 33, 103]],[[14, 44, 104],[15, 55, 105],[16, 66, 106]]])\n",
    "print(c)\n",
    "print(tf.shape(c))"
   ]
  },
  {
   "cell_type": "code",
   "execution_count": 15,
   "metadata": {},
   "outputs": [],
   "source": [
    "concat_ac = tf.concat((a,c), axis=2) "
   ]
  },
  {
   "cell_type": "code",
   "execution_count": null,
   "metadata": {},
   "outputs": [],
   "source": []
  },
  {
   "cell_type": "markdown",
   "metadata": {},
   "source": [
    "For concat, all dimensions of the concat variables, EXCEPT the axis along which it is being concatenated, must be equal. The resulting output will have same shape for all other dimensions. For the concat axis, the shape will be sum of the shapes of the concat axis\n"
   ]
  },
  {
   "cell_type": "code",
   "execution_count": 16,
   "metadata": {},
   "outputs": [
    {
     "name": "stdout",
     "output_type": "stream",
     "text": [
      "Shape of a: (2, 3, 1)\n",
      "Shape of c: (2, 3, 3)\n",
      "Shape of a: (2, 3, 4)\n"
     ]
    }
   ],
   "source": [
    "print('Shape of a:', a.shape)\n",
    "print('Shape of c:', c.shape)\n",
    "print('Shape of a:', concat_ac.shape)"
   ]
  },
  {
   "cell_type": "code",
   "execution_count": 17,
   "metadata": {},
   "outputs": [
    {
     "name": "stdout",
     "output_type": "stream",
     "text": [
      "tf.Tensor(\n",
      "[[[11]\n",
      "  [12]\n",
      "  [13]]\n",
      "\n",
      " [[14]\n",
      "  [15]\n",
      "  [16]]], shape=(2, 3, 1), dtype=int32)\n",
      "tf.Tensor([2 3 1], shape=(3,), dtype=int32)\n"
     ]
    }
   ],
   "source": [
    "b = tf.constant([[[11],[12],[13]],[[14],[15],[16]]])\n",
    "print(b)\n",
    "print(tf.shape(b))"
   ]
  },
  {
   "cell_type": "code",
   "execution_count": 18,
   "metadata": {},
   "outputs": [
    {
     "name": "stdout",
     "output_type": "stream",
     "text": [
      "tf.Tensor(\n",
      "[[[ 1]\n",
      "  [ 2]\n",
      "  [ 3]]\n",
      "\n",
      " [[ 4]\n",
      "  [ 5]\n",
      "  [ 6]]\n",
      "\n",
      " [[11]\n",
      "  [12]\n",
      "  [13]]\n",
      "\n",
      " [[14]\n",
      "  [15]\n",
      "  [16]]], shape=(4, 3, 1), dtype=int32)\n"
     ]
    }
   ],
   "source": [
    "#Concat along axis 0\n",
    "concat_ab0 = tf.concat((a,b), axis=0)\n",
    "print(concat_ab0)"
   ]
  },
  {
   "cell_type": "code",
   "execution_count": 19,
   "metadata": {},
   "outputs": [
    {
     "name": "stdout",
     "output_type": "stream",
     "text": [
      "tf.Tensor(\n",
      "[[[ 1 11]\n",
      "  [ 2 12]\n",
      "  [ 3 13]]\n",
      "\n",
      " [[ 4 14]\n",
      "  [ 5 15]\n",
      "  [ 6 16]]], shape=(2, 3, 2), dtype=int32)\n"
     ]
    }
   ],
   "source": [
    "# Concat along axis 2\n",
    "concat_ab2 = tf.concat((a,b), axis=2)\n",
    "print(concat_ab2)"
   ]
  },
  {
   "cell_type": "code",
   "execution_count": 20,
   "metadata": {},
   "outputs": [
    {
     "name": "stdout",
     "output_type": "stream",
     "text": [
      "Shape of a: (2, 3, 1)\n",
      "Shape of b: (2, 3, 1)\n",
      "Shape of tf.concat(a,b,axis=0): (4, 3, 1)\n",
      "Shape of tf.concat(a,b,axis=2): (2, 3, 2)\n"
     ]
    }
   ],
   "source": [
    "print('Shape of a:', a.shape)\n",
    "print('Shape of b:', b.shape)\n",
    "print('Shape of tf.concat(a,b,axis=0):', concat_ab0.shape)\n",
    "print('Shape of tf.concat(a,b,axis=2):', concat_ab2.shape)"
   ]
  },
  {
   "cell_type": "markdown",
   "metadata": {},
   "source": [
    "### expand_dims"
   ]
  },
  {
   "cell_type": "markdown",
   "metadata": {},
   "source": [
    "expands the specified dimension"
   ]
  },
  {
   "cell_type": "code",
   "execution_count": 21,
   "metadata": {},
   "outputs": [],
   "source": [
    "a = tf.constant([[1,2],[3,4]])\n",
    "expand_0 = tf.expand_dims(a,0)\n",
    "expand_1 = tf.expand_dims(a,1)\n",
    "expand_2 = tf.expand_dims(a,2)"
   ]
  },
  {
   "cell_type": "code",
   "execution_count": 22,
   "metadata": {},
   "outputs": [
    {
     "name": "stdout",
     "output_type": "stream",
     "text": [
      "tf.Tensor(\n",
      "[[[1 2]\n",
      "  [3 4]]], shape=(1, 2, 2), dtype=int32)\n"
     ]
    }
   ],
   "source": [
    "print(expand_0)"
   ]
  },
  {
   "cell_type": "code",
   "execution_count": 23,
   "metadata": {},
   "outputs": [
    {
     "name": "stdout",
     "output_type": "stream",
     "text": [
      "tf.Tensor(\n",
      "[[[1 2]]\n",
      "\n",
      " [[3 4]]], shape=(2, 1, 2), dtype=int32)\n"
     ]
    }
   ],
   "source": [
    "print(expand_1)"
   ]
  },
  {
   "cell_type": "code",
   "execution_count": 24,
   "metadata": {},
   "outputs": [
    {
     "name": "stdout",
     "output_type": "stream",
     "text": [
      "tf.Tensor(\n",
      "[[[1]\n",
      "  [2]]\n",
      "\n",
      " [[3]\n",
      "  [4]]], shape=(2, 2, 1), dtype=int32)\n"
     ]
    }
   ],
   "source": [
    "print(expand_2)"
   ]
  },
  {
   "cell_type": "markdown",
   "metadata": {},
   "source": [
    "### gather"
   ]
  },
  {
   "cell_type": "code",
   "execution_count": 25,
   "metadata": {},
   "outputs": [
    {
     "name": "stdout",
     "output_type": "stream",
     "text": [
      "tf.Tensor(\n",
      "[[[10 11]\n",
      "  [12 22]\n",
      "  [13 33]]\n",
      "\n",
      " [[14 44]\n",
      "  [15 55]\n",
      "  [16 66]]\n",
      "\n",
      " [[17 77]\n",
      "  [18 88]\n",
      "  [19 99]]\n",
      "\n",
      " [[ 1  2]\n",
      "  [ 4  5]\n",
      "  [ 7  8]]], shape=(4, 3, 2), dtype=int32)\n"
     ]
    }
   ],
   "source": [
    "a = tf.constant([[[10, 11],[12, 22],[13, 33]],\n",
    "                 [[14, 44],[15, 55],[16, 66]],\n",
    "                 [[17, 77],[18, 88],[19, 99]],\n",
    "                 [[1, 2],[4, 5],[7, 8]]])\n",
    "print(a) # Here we are creating 4 - 3*2 matrices(inner)"
   ]
  },
  {
   "cell_type": "code",
   "execution_count": 26,
   "metadata": {},
   "outputs": [
    {
     "name": "stdout",
     "output_type": "stream",
     "text": [
      "Shape of a: (4, 3, 2)\n"
     ]
    }
   ],
   "source": [
    "print('Shape of a:', a.shape)"
   ]
  },
  {
   "cell_type": "code",
   "execution_count": 27,
   "metadata": {},
   "outputs": [
    {
     "data": {
      "text/plain": [
       "<tf.Tensor: id=99, shape=(2, 3, 2), dtype=int32, numpy=\n",
       "array([[[14, 44],\n",
       "        [15, 55],\n",
       "        [16, 66]],\n",
       "\n",
       "       [[ 1,  2],\n",
       "        [ 4,  5],\n",
       "        [ 7,  8]]], dtype=int32)>"
      ]
     },
     "execution_count": 27,
     "metadata": {},
     "output_type": "execute_result"
    }
   ],
   "source": [
    "#Gets the 1st and the 3rd inner 3*2 matrices\n",
    "tf.gather(a, indices=[1, 3], axis=0) "
   ]
  },
  {
   "cell_type": "code",
   "execution_count": 28,
   "metadata": {},
   "outputs": [
    {
     "data": {
      "text/plain": [
       "<tf.Tensor: id=103, shape=(4, 2, 2), dtype=int32, numpy=\n",
       "array([[[10, 11],\n",
       "        [13, 33]],\n",
       "\n",
       "       [[14, 44],\n",
       "        [16, 66]],\n",
       "\n",
       "       [[17, 77],\n",
       "        [19, 99]],\n",
       "\n",
       "       [[ 1,  2],\n",
       "        [ 7,  8]]], dtype=int32)>"
      ]
     },
     "execution_count": 28,
     "metadata": {},
     "output_type": "execute_result"
    }
   ],
   "source": [
    "#gets only the rows(since axis=1) 0,2 of the 3*2 inner matrix for all the 4 matrices\n",
    "tf.gather(a, indices=[0,2], axis=1)"
   ]
  },
  {
   "cell_type": "code",
   "execution_count": 29,
   "metadata": {},
   "outputs": [
    {
     "data": {
      "text/plain": [
       "<tf.Tensor: id=107, shape=(4, 3, 1), dtype=int32, numpy=\n",
       "array([[[11],\n",
       "        [22],\n",
       "        [33]],\n",
       "\n",
       "       [[44],\n",
       "        [55],\n",
       "        [66]],\n",
       "\n",
       "       [[77],\n",
       "        [88],\n",
       "        [99]],\n",
       "\n",
       "       [[ 2],\n",
       "        [ 5],\n",
       "        [ 8]]], dtype=int32)>"
      ]
     },
     "execution_count": 29,
     "metadata": {},
     "output_type": "execute_result"
    }
   ],
   "source": [
    "#gets only the col(since axis=2) number 1 of the 3*2 inner matrix for all the 4 matrices\n",
    "tf.gather(a, indices=[1], axis=2) "
   ]
  },
  {
   "cell_type": "code",
   "execution_count": null,
   "metadata": {},
   "outputs": [],
   "source": []
  },
  {
   "cell_type": "code",
   "execution_count": null,
   "metadata": {},
   "outputs": [],
   "source": []
  },
  {
   "cell_type": "markdown",
   "metadata": {},
   "source": [
    "We need to make sure that the indices are within the ranges of the axis being indexed.\n",
    "\n",
    "Depending on the indices passed, the corresponding items are selected from the specified axis.\n",
    "\n",
    "If shape of indices is nd, then the output of gather will have shape that is expanded along the specified axis by nd"
   ]
  },
  {
   "cell_type": "code",
   "execution_count": 30,
   "metadata": {},
   "outputs": [
    {
     "name": "stdout",
     "output_type": "stream",
     "text": [
      "shape of a: (4, 3, 2)\n",
      "shape of indices: (5, 3)\n",
      "specified axis: 1\n",
      "shape of output: (4, 5, 3, 2)\n",
      "tf.Tensor(\n",
      "[[[[10 11]\n",
      "   [12 22]\n",
      "   [12 22]]\n",
      "\n",
      "  [[10 11]\n",
      "   [13 33]\n",
      "   [12 22]]\n",
      "\n",
      "  [[12 22]\n",
      "   [10 11]\n",
      "   [13 33]]\n",
      "\n",
      "  [[10 11]\n",
      "   [10 11]\n",
      "   [10 11]]\n",
      "\n",
      "  [[12 22]\n",
      "   [12 22]\n",
      "   [12 22]]]\n",
      "\n",
      "\n",
      " [[[14 44]\n",
      "   [15 55]\n",
      "   [15 55]]\n",
      "\n",
      "  [[14 44]\n",
      "   [16 66]\n",
      "   [15 55]]\n",
      "\n",
      "  [[15 55]\n",
      "   [14 44]\n",
      "   [16 66]]\n",
      "\n",
      "  [[14 44]\n",
      "   [14 44]\n",
      "   [14 44]]\n",
      "\n",
      "  [[15 55]\n",
      "   [15 55]\n",
      "   [15 55]]]\n",
      "\n",
      "\n",
      " [[[17 77]\n",
      "   [18 88]\n",
      "   [18 88]]\n",
      "\n",
      "  [[17 77]\n",
      "   [19 99]\n",
      "   [18 88]]\n",
      "\n",
      "  [[18 88]\n",
      "   [17 77]\n",
      "   [19 99]]\n",
      "\n",
      "  [[17 77]\n",
      "   [17 77]\n",
      "   [17 77]]\n",
      "\n",
      "  [[18 88]\n",
      "   [18 88]\n",
      "   [18 88]]]\n",
      "\n",
      "\n",
      " [[[ 1  2]\n",
      "   [ 4  5]\n",
      "   [ 4  5]]\n",
      "\n",
      "  [[ 1  2]\n",
      "   [ 7  8]\n",
      "   [ 4  5]]\n",
      "\n",
      "  [[ 4  5]\n",
      "   [ 1  2]\n",
      "   [ 7  8]]\n",
      "\n",
      "  [[ 1  2]\n",
      "   [ 1  2]\n",
      "   [ 1  2]]\n",
      "\n",
      "  [[ 4  5]\n",
      "   [ 4  5]\n",
      "   [ 4  5]]]], shape=(4, 5, 3, 2), dtype=int32)\n"
     ]
    }
   ],
   "source": [
    "#gets rows (0,1,1), (0,2,1), (1,0,2), (0,0,0), (1,1,1) and all columns of inner matrix \n",
    "# and creates 4(outer)*5*3(indexed)*2(inner cols)\n",
    "indices = np.array([[0,1,1],[0,2,1], [1,0,2], [0,0,0],[1,1,1]])\n",
    "axis=1\n",
    "out = tf.gather(a, indices=indices, axis=axis) \n",
    "print('shape of a:', a.shape)\n",
    "print('shape of indices:', indices.shape)\n",
    "print('specified axis:', axis)\n",
    "print('shape of output:', out.shape)\n",
    "print(out)"
   ]
  },
  {
   "cell_type": "code",
   "execution_count": 31,
   "metadata": {},
   "outputs": [
    {
     "name": "stdout",
     "output_type": "stream",
     "text": [
      "shape of a: (4, 3, 2)\n",
      "shape of indices: (5, 3)\n",
      "specified axis: 2\n",
      "shape of output: (4, 3, 5, 3)\n",
      "tf.Tensor(\n",
      "[[[[10 11 11]\n",
      "   [10 10 11]\n",
      "   [11 10 11]\n",
      "   [10 10 10]\n",
      "   [11 11 11]]\n",
      "\n",
      "  [[12 22 22]\n",
      "   [12 12 22]\n",
      "   [22 12 22]\n",
      "   [12 12 12]\n",
      "   [22 22 22]]\n",
      "\n",
      "  [[13 33 33]\n",
      "   [13 13 33]\n",
      "   [33 13 33]\n",
      "   [13 13 13]\n",
      "   [33 33 33]]]\n",
      "\n",
      "\n",
      " [[[14 44 44]\n",
      "   [14 14 44]\n",
      "   [44 14 44]\n",
      "   [14 14 14]\n",
      "   [44 44 44]]\n",
      "\n",
      "  [[15 55 55]\n",
      "   [15 15 55]\n",
      "   [55 15 55]\n",
      "   [15 15 15]\n",
      "   [55 55 55]]\n",
      "\n",
      "  [[16 66 66]\n",
      "   [16 16 66]\n",
      "   [66 16 66]\n",
      "   [16 16 16]\n",
      "   [66 66 66]]]\n",
      "\n",
      "\n",
      " [[[17 77 77]\n",
      "   [17 17 77]\n",
      "   [77 17 77]\n",
      "   [17 17 17]\n",
      "   [77 77 77]]\n",
      "\n",
      "  [[18 88 88]\n",
      "   [18 18 88]\n",
      "   [88 18 88]\n",
      "   [18 18 18]\n",
      "   [88 88 88]]\n",
      "\n",
      "  [[19 99 99]\n",
      "   [19 19 99]\n",
      "   [99 19 99]\n",
      "   [19 19 19]\n",
      "   [99 99 99]]]\n",
      "\n",
      "\n",
      " [[[ 1  2  2]\n",
      "   [ 1  1  2]\n",
      "   [ 2  1  2]\n",
      "   [ 1  1  1]\n",
      "   [ 2  2  2]]\n",
      "\n",
      "  [[ 4  5  5]\n",
      "   [ 4  4  5]\n",
      "   [ 5  4  5]\n",
      "   [ 4  4  4]\n",
      "   [ 5  5  5]]\n",
      "\n",
      "  [[ 7  8  8]\n",
      "   [ 7  7  8]\n",
      "   [ 8  7  8]\n",
      "   [ 7  7  7]\n",
      "   [ 8  8  8]]]], shape=(4, 3, 5, 3), dtype=int32)\n"
     ]
    }
   ],
   "source": [
    "#selects column elements (0,1,1), (0,0,1), (1,0,1), (0,0,0), (1,1,1) for each rows of inner matrix \n",
    "# and creates 4(outer)*3(rows)*5*3(indexed)\n",
    "indices = np.array([[0,1,1],[0,0,1], [1,0,1], [0,0,0],[1,1,1]])\n",
    "axis=2\n",
    "out = tf.gather(a, indices=indices, axis=axis) \n",
    "print('shape of a:', a.shape)\n",
    "print('shape of indices:', indices.shape)\n",
    "print('specified axis:', axis)\n",
    "print('shape of output:', out.shape)\n",
    "print(out)"
   ]
  },
  {
   "cell_type": "markdown",
   "metadata": {},
   "source": [
    "### gather_nd"
   ]
  },
  {
   "cell_type": "code",
   "execution_count": 32,
   "metadata": {},
   "outputs": [
    {
     "name": "stdout",
     "output_type": "stream",
     "text": [
      "tf.Tensor(\n",
      "[[[10 11]\n",
      "  [12 22]\n",
      "  [13 33]]\n",
      "\n",
      " [[14 44]\n",
      "  [15 55]\n",
      "  [16 66]]\n",
      "\n",
      " [[17 77]\n",
      "  [18 88]\n",
      "  [19 99]]\n",
      "\n",
      " [[ 1  2]\n",
      "  [ 4  5]\n",
      "  [ 7  8]]], shape=(4, 3, 2), dtype=int32)\n"
     ]
    }
   ],
   "source": [
    "a = tf.constant([[[10, 11],[12, 22],[13, 33]],\n",
    "                 [[14, 44],[15, 55],[16, 66]],\n",
    "                 [[17, 77],[18, 88],[19, 99]],\n",
    "                 [[1, 2],[4, 5],[7, 8]]])\n",
    "print(a) # Here we are creating 4 - 3*2 matrices(inner)"
   ]
  },
  {
   "cell_type": "code",
   "execution_count": 33,
   "metadata": {},
   "outputs": [
    {
     "name": "stdout",
     "output_type": "stream",
     "text": [
      "shape of a: (4, 3, 2)\n",
      "shape of indices: (2, 3)\n",
      "shape of out: (2,)\n",
      "tf.Tensor([22  4], shape=(2,), dtype=int32)\n"
     ]
    }
   ],
   "source": [
    "indices = np.array([[0,1,1],[3,1,0]])\n",
    "print('shape of a:', a.shape)\n",
    "print('shape of indices:', indices.shape)\n",
    "out = tf.gather_nd(a, indices=indices)\n",
    "print('shape of out:', out.shape)\n",
    "print(out)"
   ]
  },
  {
   "cell_type": "code",
   "execution_count": 34,
   "metadata": {},
   "outputs": [
    {
     "name": "stdout",
     "output_type": "stream",
     "text": [
      "shape of a: (4, 3, 2)\n",
      "shape of indices: (2, 1)\n",
      "shape of out: (2, 3, 2)\n",
      "tf.Tensor(\n",
      "[[[10 11]\n",
      "  [12 22]\n",
      "  [13 33]]\n",
      "\n",
      " [[14 44]\n",
      "  [15 55]\n",
      "  [16 66]]], shape=(2, 3, 2), dtype=int32)\n"
     ]
    }
   ],
   "source": [
    "indices = np.array([[0],[1]])\n",
    "print('shape of a:', a.shape)\n",
    "print('shape of indices:', indices.shape)\n",
    "out = tf.gather_nd(a, indices=indices)\n",
    "print('shape of out:', out.shape)\n",
    "print(out)"
   ]
  },
  {
   "cell_type": "code",
   "execution_count": 35,
   "metadata": {},
   "outputs": [
    {
     "name": "stdout",
     "output_type": "stream",
     "text": [
      "shape of a: (4, 3, 2)\n",
      "shape of indices: (2,)\n",
      "shape of out: (2,)\n",
      "tf.Tensor([1 2], shape=(2,), dtype=int32)\n"
     ]
    }
   ],
   "source": [
    "indices = np.array([3,0])\n",
    "print('shape of a:', a.shape)\n",
    "print('shape of indices:', indices.shape)\n",
    "out = tf.gather_nd(a, indices=indices)\n",
    "print('shape of out:', out.shape)\n",
    "print(out)"
   ]
  },
  {
   "cell_type": "code",
   "execution_count": 36,
   "metadata": {},
   "outputs": [
    {
     "name": "stdout",
     "output_type": "stream",
     "text": [
      "shape of a: (4, 3, 2)\n",
      "shape of indices: (2, 2, 1)\n",
      "shape of out: (2, 2, 3, 2)\n",
      "tf.Tensor(\n",
      "[[[[ 1  2]\n",
      "   [ 4  5]\n",
      "   [ 7  8]]\n",
      "\n",
      "  [[14 44]\n",
      "   [15 55]\n",
      "   [16 66]]]\n",
      "\n",
      "\n",
      " [[[14 44]\n",
      "   [15 55]\n",
      "   [16 66]]\n",
      "\n",
      "  [[10 11]\n",
      "   [12 22]\n",
      "   [13 33]]]], shape=(2, 2, 3, 2), dtype=int32)\n"
     ]
    }
   ],
   "source": [
    "indices = np.array([[[3],[1]],[[1],[0]]])\n",
    "print('shape of a:', a.shape)\n",
    "print('shape of indices:', indices.shape)\n",
    "out = tf.gather_nd(a, indices=indices)\n",
    "print('shape of out:', out.shape)\n",
    "print(out)"
   ]
  },
  {
   "cell_type": "code",
   "execution_count": 37,
   "metadata": {},
   "outputs": [
    {
     "name": "stdout",
     "output_type": "stream",
     "text": [
      "shape of a: (4, 3, 2)\n",
      "shape of indices: (2, 2, 2)\n",
      "shape of out: (2, 2, 2)\n",
      "tf.Tensor(\n",
      "[[[ 1  2]\n",
      "  [14 44]]\n",
      "\n",
      " [[14 44]\n",
      "  [10 11]]], shape=(2, 2, 2), dtype=int32)\n"
     ]
    }
   ],
   "source": [
    "indices = np.array([[[3,0],[1,0]],[[1,0],[0,0]]])\n",
    "print('shape of a:', a.shape)\n",
    "print('shape of indices:', indices.shape)\n",
    "out = tf.gather_nd(a, indices=indices)\n",
    "print('shape of out:', out.shape)\n",
    "print(out)"
   ]
  },
  {
   "cell_type": "code",
   "execution_count": null,
   "metadata": {},
   "outputs": [],
   "source": []
  },
  {
   "cell_type": "markdown",
   "metadata": {},
   "source": [
    "### reshape"
   ]
  },
  {
   "cell_type": "code",
   "execution_count": 39,
   "metadata": {},
   "outputs": [
    {
     "name": "stdout",
     "output_type": "stream",
     "text": [
      "tf.Tensor([1 2 3 4 5 6 7 8 9], shape=(9,), dtype=int32)\n"
     ]
    }
   ],
   "source": [
    "a = tf.constant([1, 2, 3, 4, 5, 6, 7, 8, 9])\n",
    "print(a)"
   ]
  },
  {
   "cell_type": "code",
   "execution_count": 47,
   "metadata": {},
   "outputs": [
    {
     "name": "stdout",
     "output_type": "stream",
     "text": [
      "tf.Tensor(\n",
      "[[1 2 3]\n",
      " [4 5 6]\n",
      " [7 8 9]], shape=(3, 3), dtype=int32)\n"
     ]
    }
   ],
   "source": [
    "a_reshaped = tf.reshape(a,[-1, 3])\n",
    "print(a_reshaped)"
   ]
  },
  {
   "cell_type": "code",
   "execution_count": 52,
   "metadata": {},
   "outputs": [
    {
     "name": "stdout",
     "output_type": "stream",
     "text": [
      "tf.Tensor([1 2 3 4 5 6 7 8 9], shape=(9,), dtype=int32)\n"
     ]
    }
   ],
   "source": [
    "a_reshaped_back = tf.reshape(a_reshaped,[-1])\n",
    "print(a_reshaped_back)"
   ]
  },
  {
   "cell_type": "markdown",
   "metadata": {},
   "source": [
    "### shape"
   ]
  },
  {
   "cell_type": "markdown",
   "metadata": {},
   "source": [
    "Returns the shape of the tensor along all the dimensions"
   ]
  },
  {
   "cell_type": "code",
   "execution_count": 58,
   "metadata": {},
   "outputs": [
    {
     "name": "stdout",
     "output_type": "stream",
     "text": [
      "tf.Tensor([3 3], shape=(2,), dtype=int32)\n",
      "(3, 3)\n"
     ]
    }
   ],
   "source": [
    "a = tf.constant([[1, 2, 3], [4, 5, 6], [7, 8, 9]])\n",
    "print(tf.shape(a))\n",
    "print(a.shape)"
   ]
  },
  {
   "cell_type": "markdown",
   "metadata": {},
   "source": [
    "### size"
   ]
  },
  {
   "cell_type": "markdown",
   "metadata": {},
   "source": [
    "Returns the total number of elements in the tensor"
   ]
  },
  {
   "cell_type": "code",
   "execution_count": 59,
   "metadata": {},
   "outputs": [
    {
     "name": "stdout",
     "output_type": "stream",
     "text": [
      "tf.Tensor(9, shape=(), dtype=int32)\n"
     ]
    }
   ],
   "source": [
    "a = tf.constant([[[1, 2, 3], [4, 5, 6], [7, 8, 9]]])\n",
    "print(tf.size(a))"
   ]
  },
  {
   "cell_type": "markdown",
   "metadata": {},
   "source": [
    "### slice"
   ]
  },
  {
   "cell_type": "code",
   "execution_count": 76,
   "metadata": {},
   "outputs": [
    {
     "name": "stdout",
     "output_type": "stream",
     "text": [
      "tf.Tensor(\n",
      "[[[   1 1111 5551]\n",
      "  [   2 1112 5552]\n",
      "  [   3 1113 5553]]\n",
      "\n",
      " [[   4 1114 5554]\n",
      "  [   5 1115 5555]\n",
      "  [   6 1116 5556]]\n",
      "\n",
      " [[   7 1117 5557]\n",
      "  [   8 1118 5558]\n",
      "  [   9 1119 5559]]\n",
      "\n",
      " [[  10 1110 5510]\n",
      "  [  11 1111 5511]\n",
      "  [  12 1112 5512]]\n",
      "\n",
      " [[  13 1113 5513]\n",
      "  [  14 1114 5514]\n",
      "  [  15 1115 5515]]], shape=(5, 3, 3), dtype=int32)\n",
      "Shape of a: (5, 3, 3)\n"
     ]
    }
   ],
   "source": [
    "a = tf.constant([[[1, 1111, 5551], [2, 1112, 5552], [3, 1113, 5553]],\n",
    "                 [[4, 1114, 5554], [5, 1115, 5555], [6, 1116, 5556]],\n",
    "                 [[7, 1117, 5557], [8, 1118, 5558], [9, 1119, 5559]],\n",
    "                 [[10,1110,5510], [11,1111,5511], [12,1112,5512]],\n",
    "                 [[13,1113,5513], [14,1114,5514], [15,1115,5515]]])\n",
    "\n",
    "print(a)\n",
    "print('Shape of a:', a.shape)"
   ]
  },
  {
   "cell_type": "code",
   "execution_count": null,
   "metadata": {},
   "outputs": [],
   "source": []
  },
  {
   "cell_type": "markdown",
   "metadata": {},
   "source": [
    "Since a is a 3 dimensional tensor, the *begin* and *size* arguments of slice must be of size 3.\n",
    "\n",
    "Begin indicates the index to start slicing from, and size tells how many elements to slice. \n",
    "\n",
    "In the example below we start at index (1,1,0) and slice 3 - 2 * 2 matrices starting at that index"
   ]
  },
  {
   "cell_type": "code",
   "execution_count": 79,
   "metadata": {},
   "outputs": [
    {
     "name": "stdout",
     "output_type": "stream",
     "text": [
      "tf.Tensor(\n",
      "[[[   5 1115]\n",
      "  [   6 1116]]\n",
      "\n",
      " [[   8 1118]\n",
      "  [   9 1119]]\n",
      "\n",
      " [[  11 1111]\n",
      "  [  12 1112]]], shape=(3, 2, 2), dtype=int32)\n"
     ]
    }
   ],
   "source": [
    "print(tf.slice(a, begin=[1,1,0], size=[3,2,2]))"
   ]
  },
  {
   "cell_type": "code",
   "execution_count": null,
   "metadata": {},
   "outputs": [],
   "source": []
  },
  {
   "cell_type": "markdown",
   "metadata": {},
   "source": [
    "### split"
   ]
  },
  {
   "cell_type": "code",
   "execution_count": 82,
   "metadata": {},
   "outputs": [
    {
     "name": "stdout",
     "output_type": "stream",
     "text": [
      "tf.Tensor(\n",
      "[[ 1  2  3  4  5  6]\n",
      " [ 7  8  9 10 11 12]], shape=(2, 6), dtype=int32)\n"
     ]
    }
   ],
   "source": [
    "a = tf.constant([[1,2,3,4,5,6],[7,8,9,10,11,12]])\n",
    "print(a)"
   ]
  },
  {
   "cell_type": "code",
   "execution_count": 84,
   "metadata": {},
   "outputs": [
    {
     "name": "stdout",
     "output_type": "stream",
     "text": [
      "[<tf.Tensor: id=271, shape=(1, 6), dtype=int32, numpy=array([[1, 2, 3, 4, 5, 6]], dtype=int32)>, <tf.Tensor: id=272, shape=(1, 6), dtype=int32, numpy=array([[ 7,  8,  9, 10, 11, 12]], dtype=int32)>]\n"
     ]
    }
   ],
   "source": [
    "#split along 0th axis\n",
    "print(tf.split(a,2, axis=0)) #default axis is 0"
   ]
  },
  {
   "cell_type": "code",
   "execution_count": 89,
   "metadata": {},
   "outputs": [
    {
     "name": "stdout",
     "output_type": "stream",
     "text": [
      "[<tf.Tensor: id=291, shape=(2, 2), dtype=int32, numpy=\n",
      "array([[1, 2],\n",
      "       [7, 8]], dtype=int32)>, <tf.Tensor: id=292, shape=(2, 2), dtype=int32, numpy=\n",
      "array([[ 3,  4],\n",
      "       [ 9, 10]], dtype=int32)>, <tf.Tensor: id=293, shape=(2, 2), dtype=int32, numpy=\n",
      "array([[ 5,  6],\n",
      "       [11, 12]], dtype=int32)>]\n"
     ]
    }
   ],
   "source": [
    "#split along 1st axis\n",
    "print(tf.split(a, num_or_size_splits=3, axis=1))"
   ]
  },
  {
   "cell_type": "code",
   "execution_count": null,
   "metadata": {},
   "outputs": [],
   "source": []
  },
  {
   "cell_type": "markdown",
   "metadata": {},
   "source": [
    "If you want to specify the size of split, then the sum of the elements in the list must be equal to the number of elements in the split axis"
   ]
  },
  {
   "cell_type": "code",
   "execution_count": 97,
   "metadata": {},
   "outputs": [
    {
     "name": "stdout",
     "output_type": "stream",
     "text": [
      "(2, 6)\n",
      "[<tf.Tensor: id=325, shape=(2, 1), dtype=int32, numpy=\n",
      "array([[1],\n",
      "       [7]], dtype=int32)>, <tf.Tensor: id=326, shape=(2, 3), dtype=int32, numpy=\n",
      "array([[ 2,  3,  4],\n",
      "       [ 8,  9, 10]], dtype=int32)>, <tf.Tensor: id=327, shape=(2, 2), dtype=int32, numpy=\n",
      "array([[ 5,  6],\n",
      "       [11, 12]], dtype=int32)>]\n"
     ]
    }
   ],
   "source": [
    "print(a.shape)\n",
    "split_axis = 1\n",
    "split_sizes = [1,3,2]\n",
    "print(tf.split(a, num_or_size_splits=split_sizes, axis=split_axis))"
   ]
  },
  {
   "cell_type": "markdown",
   "metadata": {},
   "source": [
    "### squeeze"
   ]
  },
  {
   "cell_type": "code",
   "execution_count": 108,
   "metadata": {},
   "outputs": [
    {
     "name": "stdout",
     "output_type": "stream",
     "text": [
      "(1, 2, 1, 3)\n"
     ]
    }
   ],
   "source": [
    "a = tf.constant([[[[1,2,3]],[[4,5,6]]]])\n",
    "print('Shape of a:',a.shape)"
   ]
  },
  {
   "cell_type": "code",
   "execution_count": 117,
   "metadata": {},
   "outputs": [
    {
     "name": "stdout",
     "output_type": "stream",
     "text": [
      "Shape of tf.squeeze(a)     : (2, 3)\n",
      "Shape of tf.squeeze(a,[2]) : (1, 2, 3)\n"
     ]
    }
   ],
   "source": [
    "squeezed_a_all = tf.squeeze(a) #Squeezes all axes whose size is 1\n",
    "squeezed_a_0 = tf.squeeze(a,[2]) # Squeezes 2nd axis\n",
    "print('Shape of tf.squeeze(a)     :',squeezed_a_all.shape)\n",
    "print('Shape of tf.squeeze(a,[2]) :',squeezed_a_0.shape)"
   ]
  },
  {
   "cell_type": "markdown",
   "metadata": {},
   "source": [
    "### stack"
   ]
  },
  {
   "cell_type": "markdown",
   "metadata": {},
   "source": [
    "Appends n tensors (of same shape and type). Creates a new dimension along the axis where it is being stacked (with size of axis equal to number of tensors being stacked)."
   ]
  },
  {
   "cell_type": "code",
   "execution_count": 132,
   "metadata": {},
   "outputs": [
    {
     "name": "stdout",
     "output_type": "stream",
     "text": [
      "(3, 2) (3, 2) (3, 2) (3, 2)\n",
      "tf.Tensor(\n",
      "[[1 2]\n",
      " [3 4]\n",
      " [5 6]], shape=(3, 2), dtype=int32)\n"
     ]
    }
   ],
   "source": [
    "a=tf.constant([[1,2],[3,4],[5,6]])\n",
    "b=tf.constant([[11,12],[13,14],[15,16]])\n",
    "c=tf.constant([[21,22],[23,24],[25,26]])\n",
    "d=tf.constant([[31,32],[33,34],[35,36]])\n",
    "print(a.shape, b.shape, c.shape, d.shape)\n",
    "print(a)"
   ]
  },
  {
   "cell_type": "markdown",
   "metadata": {},
   "source": [
    "Here we are stacking 4 tensors"
   ]
  },
  {
   "cell_type": "code",
   "execution_count": 130,
   "metadata": {},
   "outputs": [
    {
     "name": "stdout",
     "output_type": "stream",
     "text": [
      "Shape of stacked tensors: (3, 2, 4)\n",
      "tf.Tensor(\n",
      "[[[ 1 11 21 31]\n",
      "  [ 2 12 22 32]]\n",
      "\n",
      " [[ 3 13 23 33]\n",
      "  [ 4 14 24 34]]\n",
      "\n",
      " [[ 5 15 25 35]\n",
      "  [ 6 16 26 36]]], shape=(3, 2, 4), dtype=int32)\n"
     ]
    }
   ],
   "source": [
    "stacked_tensors = tf.stack([a,b,c,d], axis=2)\n",
    "print('Shape of stacked tensors:', stacked_tensors.shape)\n",
    "print(stacked_tensors)"
   ]
  },
  {
   "cell_type": "code",
   "execution_count": 131,
   "metadata": {},
   "outputs": [
    {
     "name": "stdout",
     "output_type": "stream",
     "text": [
      "Shape of stacked tensors: (3, 4, 2)\n",
      "tf.Tensor(\n",
      "[[[ 1  2]\n",
      "  [11 12]\n",
      "  [21 22]\n",
      "  [31 32]]\n",
      "\n",
      " [[ 3  4]\n",
      "  [13 14]\n",
      "  [23 24]\n",
      "  [33 34]]\n",
      "\n",
      " [[ 5  6]\n",
      "  [15 16]\n",
      "  [25 26]\n",
      "  [35 36]]], shape=(3, 4, 2), dtype=int32)\n"
     ]
    }
   ],
   "source": [
    "stacked_tensors = tf.stack([a,b,c,d], axis=1)\n",
    "print('Shape of stacked tensors:', stacked_tensors.shape)\n",
    "print(stacked_tensors)"
   ]
  },
  {
   "cell_type": "markdown",
   "metadata": {},
   "source": [
    "### tile"
   ]
  },
  {
   "cell_type": "code",
   "execution_count": 150,
   "metadata": {},
   "outputs": [
    {
     "name": "stdout",
     "output_type": "stream",
     "text": [
      "Shape of input: (1, 3, 2)\n",
      "tf.Tensor(\n",
      "[[[1 2]\n",
      "  [3 4]\n",
      "  [5 6]]], shape=(1, 3, 2), dtype=int32)\n"
     ]
    }
   ],
   "source": [
    "var1=tf.constant([[[1,2],[3,4],[5,6]]])\n",
    "print('Shape of input:', var1.shape)\n",
    "print(var1)"
   ]
  },
  {
   "cell_type": "code",
   "execution_count": null,
   "metadata": {},
   "outputs": [],
   "source": []
  },
  {
   "cell_type": "markdown",
   "metadata": {},
   "source": [
    "Here we see that **var1** is a 3 dimensional Tensor. So to tile it, we need to pass a tensor of size 3 to the argument *multiples* of tile, which specifies how many times to repeat the corresponding dimension. \n",
    "\n",
    "**output_shape = input_shape * multiples**"
   ]
  },
  {
   "cell_type": "code",
   "execution_count": 149,
   "metadata": {},
   "outputs": [
    {
     "name": "stdout",
     "output_type": "stream",
     "text": [
      "Repeat factor: [2, 1, 3]\n",
      "Shape of tiled output: (2, 3, 6)\n",
      "tf.Tensor(\n",
      "[[[1 2 1 2 1 2]\n",
      "  [3 4 3 4 3 4]\n",
      "  [5 6 5 6 5 6]]\n",
      "\n",
      " [[1 2 1 2 1 2]\n",
      "  [3 4 3 4 3 4]\n",
      "  [5 6 5 6 5 6]]], shape=(2, 3, 6), dtype=int32)\n"
     ]
    }
   ],
   "source": [
    "repeat_factor=[2,1,3]\n",
    "tiled_var1 = tf.tile(var1, multiples=repeat_factor)\n",
    "print('Repeat factor:', repeat_factor)\n",
    "print('Shape of tiled output:', tiled_var1.shape)\n",
    "print(tiled_var1)"
   ]
  },
  {
   "cell_type": "markdown",
   "metadata": {},
   "source": [
    "### transpose"
   ]
  },
  {
   "cell_type": "code",
   "execution_count": 156,
   "metadata": {},
   "outputs": [
    {
     "name": "stdout",
     "output_type": "stream",
     "text": [
      "Shape of a: (4, 3, 2)\n",
      "tf.Tensor(\n",
      "[[[ 1  2]\n",
      "  [ 3  4]\n",
      "  [ 5  6]]\n",
      "\n",
      " [[ 7  8]\n",
      "  [ 9 10]\n",
      "  [11 12]]\n",
      "\n",
      " [[13 14]\n",
      "  [15 16]\n",
      "  [17 18]]\n",
      "\n",
      " [[19 20]\n",
      "  [21 22]\n",
      "  [23 24]]], shape=(4, 3, 2), dtype=int32)\n"
     ]
    }
   ],
   "source": [
    "a = tf.constant([[[ 1,  2],\n",
    "                  [ 3, 4],\n",
    "                  [5,  6]],\n",
    "                 [[ 7,  8],\n",
    "                  [9, 10],\n",
    "                  [11, 12]],\n",
    "                 [[13, 14],\n",
    "                  [15, 16],\n",
    "                  [17, 18]],\n",
    "                 [[19,20],\n",
    "                  [21,22],\n",
    "                  [23,24]]])\n",
    "print('Shape of a:', a.shape)\n",
    "print(a)"
   ]
  },
  {
   "cell_type": "code",
   "execution_count": null,
   "metadata": {},
   "outputs": [],
   "source": []
  },
  {
   "cell_type": "markdown",
   "metadata": {},
   "source": [
    "By default transpose reverses the dimensions"
   ]
  },
  {
   "cell_type": "code",
   "execution_count": 158,
   "metadata": {},
   "outputs": [
    {
     "name": "stdout",
     "output_type": "stream",
     "text": [
      "Shape of transposed a: (2, 3, 4)\n",
      "tf.Tensor(\n",
      "[[[ 1  7 13 19]\n",
      "  [ 3  9 15 21]\n",
      "  [ 5 11 17 23]]\n",
      "\n",
      " [[ 2  8 14 20]\n",
      "  [ 4 10 16 22]\n",
      "  [ 6 12 18 24]]], shape=(2, 3, 4), dtype=int32)\n"
     ]
    }
   ],
   "source": [
    "transposed_a = tf.transpose(a)\n",
    "print('Shape of transposed a:', transposed_a.shape)\n",
    "print(transposed_a)"
   ]
  },
  {
   "cell_type": "code",
   "execution_count": null,
   "metadata": {},
   "outputs": [],
   "source": []
  },
  {
   "cell_type": "code",
   "execution_count": 162,
   "metadata": {},
   "outputs": [
    {
     "name": "stdout",
     "output_type": "stream",
     "text": [
      "tf.Tensor(\n",
      "[[[ 1  2]\n",
      "  [ 3  4]\n",
      "  [ 5  6]]\n",
      "\n",
      " [[ 7  8]\n",
      "  [ 9 10]\n",
      "  [11 12]]\n",
      "\n",
      " [[13 14]\n",
      "  [15 16]\n",
      "  [17 18]]\n",
      "\n",
      " [[19 20]\n",
      "  [21 22]\n",
      "  [23 24]]], shape=(4, 3, 2), dtype=int32)\n"
     ]
    }
   ],
   "source": [
    "print(a)"
   ]
  },
  {
   "cell_type": "code",
   "execution_count": null,
   "metadata": {},
   "outputs": [],
   "source": [
    "We can also specify how the move the dimensions by passing the argument perm to transpose."
   ]
  },
  {
   "cell_type": "code",
   "execution_count": 161,
   "metadata": {},
   "outputs": [
    {
     "name": "stdout",
     "output_type": "stream",
     "text": [
      "Shape of a: (4, 3, 2)\n",
      "permute dimensions in the format: [0, 2, 1]\n",
      "Shape of transposed a: (4, 2, 3)\n",
      "tf.Tensor(\n",
      "[[[ 1  3  5]\n",
      "  [ 2  4  6]]\n",
      "\n",
      " [[ 7  9 11]\n",
      "  [ 8 10 12]]\n",
      "\n",
      " [[13 15 17]\n",
      "  [14 16 18]]\n",
      "\n",
      " [[19 21 23]\n",
      "  [20 22 24]]], shape=(4, 2, 3), dtype=int32)\n"
     ]
    }
   ],
   "source": [
    "perm=[0,2,1]\n",
    "transposed_a = tf.transpose(a, perm=perm)\n",
    "print('Shape of a:', a.shape)\n",
    "print('permute dimensions in the format:',perm)\n",
    "print('Shape of transposed a:', transposed_a.shape)\n",
    "print(transposed_a)"
   ]
  },
  {
   "cell_type": "markdown",
   "metadata": {},
   "source": [
    "### unstack"
   ]
  },
  {
   "cell_type": "code",
   "execution_count": 166,
   "metadata": {},
   "outputs": [
    {
     "name": "stdout",
     "output_type": "stream",
     "text": [
      "(3, 2)\n",
      "(4, 3, 2)\n",
      "tf.Tensor(\n",
      "[[[ 1  2]\n",
      "  [ 3  4]\n",
      "  [ 5  6]]\n",
      "\n",
      " [[11 12]\n",
      "  [13 14]\n",
      "  [15 16]]\n",
      "\n",
      " [[21 22]\n",
      "  [23 24]\n",
      "  [25 26]]\n",
      "\n",
      " [[31 32]\n",
      "  [33 34]\n",
      "  [35 36]]], shape=(4, 3, 2), dtype=int32)\n"
     ]
    }
   ],
   "source": [
    "a=tf.constant([[1,2],[3,4],[5,6]])\n",
    "b=tf.constant([[11,12],[13,14],[15,16]])\n",
    "c=tf.constant([[21,22],[23,24],[25,26]])\n",
    "d=tf.constant([[31,32],[33,34],[35,36]])\n",
    "stacked_tensors = tf.stack([a,b,c,d], axis=0)\n",
    "print(a.shape)\n",
    "print(stacked_tensors.shape)\n",
    "print(stacked_tensors)"
   ]
  },
  {
   "cell_type": "markdown",
   "metadata": {},
   "source": [
    "When we unstack along a particular dimension, n different tensors are created(where n=size of the axis being unstacked). Each tensor will have the shape similar to the original tensor (with the axis being dropped).\n",
    "\n",
    "Eg: If original shape was (4,3,2) and we unstack along axis 1 then it creates 3 different tensors each of shape (4,2)"
   ]
  },
  {
   "cell_type": "code",
   "execution_count": 170,
   "metadata": {},
   "outputs": [
    {
     "name": "stdout",
     "output_type": "stream",
     "text": [
      "Number of tensors created: 3\n",
      "Size of each tensors: (4, 2)\n"
     ]
    }
   ],
   "source": [
    "unstacked = tf.unstack(stacked_tensors, axis=1)\n",
    "print('Number of tensors created:', len(unstacked))\n",
    "print('Size of each tensors:', unstacked[0].shape)"
   ]
  },
  {
   "cell_type": "code",
   "execution_count": 171,
   "metadata": {},
   "outputs": [
    {
     "name": "stdout",
     "output_type": "stream",
     "text": [
      "[<tf.Tensor: id=488, shape=(4, 2), dtype=int32, numpy=\n",
      "array([[ 1,  2],\n",
      "       [11, 12],\n",
      "       [21, 22],\n",
      "       [31, 32]], dtype=int32)>, <tf.Tensor: id=489, shape=(4, 2), dtype=int32, numpy=\n",
      "array([[ 3,  4],\n",
      "       [13, 14],\n",
      "       [23, 24],\n",
      "       [33, 34]], dtype=int32)>, <tf.Tensor: id=490, shape=(4, 2), dtype=int32, numpy=\n",
      "array([[ 5,  6],\n",
      "       [15, 16],\n",
      "       [25, 26],\n",
      "       [35, 36]], dtype=int32)>]\n"
     ]
    }
   ],
   "source": [
    "print(unstacked)"
   ]
  },
  {
   "cell_type": "code",
   "execution_count": null,
   "metadata": {},
   "outputs": [],
   "source": []
  }
 ],
 "metadata": {
  "kernelspec": {
   "display_name": "amp",
   "language": "python",
   "name": "amp"
  },
  "language_info": {
   "codemirror_mode": {
    "name": "ipython",
    "version": 3
   },
   "file_extension": ".py",
   "mimetype": "text/x-python",
   "name": "python",
   "nbconvert_exporter": "python",
   "pygments_lexer": "ipython3",
   "version": "3.6.8"
  }
 },
 "nbformat": 4,
 "nbformat_minor": 2
}
